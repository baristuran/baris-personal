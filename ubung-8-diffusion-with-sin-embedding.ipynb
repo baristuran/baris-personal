{
 "cells": [
  {
   "cell_type": "code",
   "execution_count": 1,
   "id": "667ee43d",
   "metadata": {
    "colab": {
     "base_uri": "https://localhost:8080/"
    },
    "executionInfo": {
     "elapsed": 13116,
     "status": "ok",
     "timestamp": 1733331868702,
     "user": {
      "displayName": "Horace T",
      "userId": "06468519832998886367"
     },
     "user_tz": -60
    },
    "id": "667ee43d",
    "outputId": "acd1bbe4-597c-4794-f641-45c3ea8c73f4"
   },
   "outputs": [
    {
     "name": "stdout",
     "output_type": "stream",
     "text": [
      "Device:  cuda\n"
     ]
    }
   ],
   "source": [
    "import torch\n",
    "import torch.nn as nn\n",
    "import torch.optim as optim\n",
    "from torch.optim import lr_scheduler\n",
    "from torch.utils.data import DataLoader, Dataset, Subset\n",
    "import numpy as np\n",
    "import matplotlib.pyplot as plt\n",
    "import random\n",
    "import math\n",
    "from unet import Unet\n",
    "\n",
    "device = torch.device(\"cuda\" if torch.cuda.is_available() else \"cpu\")\n",
    "print(\"Device: \", device)\n",
    "%matplotlib inline\n"
   ]
  },
  {
   "cell_type": "code",
   "execution_count": 2,
   "id": "f5fd78e3",
   "metadata": {
    "executionInfo": {
     "elapsed": 58677,
     "status": "ok",
     "timestamp": 1733332057780,
     "user": {
      "displayName": "Horace T",
      "userId": "06468519832998886367"
     },
     "user_tz": -60
    },
    "id": "f5fd78e3"
   },
   "outputs": [
    {
     "name": "stdout",
     "output_type": "stream",
     "text": [
      "(36, 320, 256, 256)\n",
      "\n"
     ]
    }
   ],
   "source": [
    "'''\n",
    "Dataset for training:\n",
    "+ 2D Kolmogorov flow\n",
    "+ 2D grids 256*256\n",
    "+ 40 Trajectories\n",
    "+ 320 Time steps per trajectory\n",
    "+ The data is in \"./Re1000_40Trajectory_320Step_256_256.npy\"\n",
    "+ The dimantionality of the numpy file is (40,320,256,256)\n",
    "+ Reynolds number 1000\n",
    "'''\n",
    "class NumpyDataset(Dataset):\n",
    "    def __init__(self, file_path):\n",
    "        data = np.load(file_path)\n",
    "        data = data[:-4]\n",
    "        print(data.shape)\n",
    "        print()\n",
    "        # Reshape the data to create individual samples\n",
    "        self.data = data.reshape(-1, 256, 256)\n",
    "        # Normalize the data to [-1, 1]\n",
    "        self.data = 2 * (self.data - np.min(self.data)) / (np.max(self.data) - np.min(self.data)) - 1\n",
    "\n",
    "    def __len__(self):\n",
    "        return len(self.data)\n",
    "\n",
    "    def __getitem__(self, idx):\n",
    "        image = self.data[idx]\n",
    "        image = np.expand_dims(image, axis=0)  # Add channel dimension\n",
    "        return torch.tensor(image, dtype=torch.float32)\n",
    "\n",
    "# Load the full dataset\n",
    "full_dataset = NumpyDataset(\"/home/baris/Documents/DDSim/Diffusion-based-Fluid-Super-resolution/data/kf_2d_re1000_256_40seed.npy\")\n",
    "\n",
    "# Select 10% of the dataset\n",
    "percentage = 1\n",
    "subset_size = int(percentage * len(full_dataset))\n",
    "subset_indices = random.sample(range(len(full_dataset)), subset_size)\n",
    "subset_dataset = Subset(full_dataset, subset_indices)\n",
    "\n",
    "dataloader = DataLoader(subset_dataset, batch_size=27, shuffle=True)\n"
   ]
  },
  {
   "cell_type": "code",
   "execution_count": 3,
   "id": "40f57596",
   "metadata": {
    "id": "40f57596"
   },
   "outputs": [],
   "source": [
    "with_attention = True\n",
    "model = Unet(with_attention).to(device)#SimpleUNet().to(device)\n"
   ]
  },
  {
   "cell_type": "code",
   "execution_count": 4,
   "id": "3eed283f",
   "metadata": {
    "id": "3eed283f",
    "outputId": "c79635bc-ed1f-4206-9500-d9d6f22c59d5"
   },
   "outputs": [
    {
     "name": "stdout",
     "output_type": "stream",
     "text": [
      "Total number of parameters: 2228673\n"
     ]
    }
   ],
   "source": [
    "'''\n",
    "Count the total number of parameters\n",
    "'''\n",
    "def count_parameters(model):\n",
    "    return sum(p.numel() for p in model.parameters() if p.requires_grad)\n",
    "\n",
    "print(f'Total number of parameters: {count_parameters(model)}')\n"
   ]
  },
  {
   "cell_type": "code",
   "execution_count": null,
   "id": "d7ac578f",
   "metadata": {
    "id": "d7ac578f"
   },
   "outputs": [
    {
     "name": "stdout",
     "output_type": "stream",
     "text": [
      "Epoch 1/500, Loss: 0.0936098740756756\n",
      "Epoch 2/500, Loss: 0.0206125923334261\n",
      "Epoch 3/500, Loss: 0.01555327114385206\n"
     ]
    }
   ],
   "source": [
    "'''\n",
    "Training\n",
    "'''\n",
    "def loss_fn(predicted_noise, true_noise):\n",
    "    return ((predicted_noise - true_noise) ** 2).mean()\n",
    "\n",
    "# Define a linear noise schedule\n",
    "timesteps = 1000\n",
    "betas = torch.linspace(1e-4, 0.02, timesteps).to(device)\n",
    "alphas = 1 - betas\n",
    "alphas_cumprod = torch.cumprod(alphas, axis=0)\n",
    "\n",
    "optimizer = optim.Adam(model.parameters(), lr=2e-4, betas=(0.9, 0.999))\n",
    "scheduler = lr_scheduler.StepLR(optimizer, step_size=20, gamma= 0.5)\n",
    "\n",
    "#optimizer_state_dict = torch.load(\"unconditional_models/with_timestep_embedding/optimizer_epoch89.pth\")\n",
    "#scheduler_state_dict = torch.load(\"unconditional_models/with_timestep_embedding/lr_scheduler_epoch89.pth\")\n",
    "#optimizer.load_state_dict(optimizer_state_dict)\n",
    "#scheduler.load_state_dict(scheduler_state_dict)\n",
    "#\n",
    "#state_dict = torch.load('unconditional_models/with_timestep_embedding/fixed_output_trained_model_epoch89.pth', map_location=torch.device('cpu'), weights_only=True)\n",
    "#model.load_state_dict(state_dict)\n",
    "model.to(device)\n",
    "\n",
    "epochs = 500\n",
    "losses = []\n",
    "\n",
    "for epoch in range(epochs):\n",
    "    epoch_losses = []\n",
    "    for images in dataloader:\n",
    "        images = images.to(device)\n",
    "\n",
    "        # Randomly select a timestep\n",
    "        t = torch.randint(0, timesteps, (images.size(0),), device=device).long()\n",
    "        #t = random.randint(0, timesteps - 1)\n",
    "        #nomalized_t = t / (timesteps)\n",
    "        #time_step_channel = torch.ones_like(images) * nomalized_t\n",
    "        #time_step_channel = time_step_channel.to(device)\n",
    "\n",
    "        # Add noise according to the schedule\n",
    "        noise = torch.randn_like(images)\n",
    "        alpha_t_bar = alphas_cumprod[t].view(-1, 1, 1, 1)\n",
    "        noisy_images = torch.sqrt(alpha_t_bar) * images + torch.sqrt(1 - alpha_t_bar) * noise\n",
    "        \n",
    "        #x_t_with_time_step = torch.cat((noisy_images, t), dim=1)\n",
    "\n",
    "        optimizer.zero_grad()\n",
    "        predicted_noise = model(noisy_images, t)\n",
    "        loss = loss_fn(predicted_noise, noise)\n",
    "        loss.backward()\n",
    "        optimizer.step()\n",
    "\n",
    "        epoch_losses.append(loss.item())\n",
    "\n",
    "    average_loss = np.mean(epoch_losses)\n",
    "    losses.append(average_loss)\n",
    "    print(f\"Epoch {epoch+1}/{epochs}, Loss: {average_loss}\")\n",
    "    if epoch % 100 == 0 and epoch > 0:\n",
    "        torch.save(model.state_dict(), f'unconditional_models/with_timestep_embedding_new/fixed_output_trained_model_epoch{epoch}.pth')\n",
    "    scheduler.step()\n",
    "    \n",
    "# Plot the loss after training\n",
    "plt.figure(figsize=(10, 5))\n",
    "plt.plot(losses, label='Loss')\n",
    "plt.xlabel('Epoch')\n",
    "plt.ylabel('Loss')\n",
    "plt.legend()\n",
    "plt.show()\n",
    "\n",
    "\n",
    "torch.save(model.state_dict(), 'unconditional_models/with_timestep_embedding_new/fixed_output_trained_model_epoch{epoch}.pth')"
   ]
  },
  {
   "cell_type": "code",
   "execution_count": 22,
   "id": "a43841be-9cad-4817-b855-f1d973d448ff",
   "metadata": {
    "id": "a43841be-9cad-4817-b855-f1d973d448ff"
   },
   "outputs": [],
   "source": [
    "torch.save(model.state_dict(), 'unconditional_models/with_attention/fixed_output_trained_model_epoch426.pth')\n",
    "torch.save(scheduler.state_dict(), 'unconditional_models/with_attention/lr_scheduler_epoch426.pth')\n",
    "torch.save(optimizer.state_dict(), 'unconditional_models/with_attention/optimizer_epoch426.pth')"
   ]
  },
  {
   "cell_type": "code",
   "execution_count": 4,
   "id": "466eb950-84e1-495c-ba8f-854ab64d07fb",
   "metadata": {
    "id": "466eb950-84e1-495c-ba8f-854ab64d07fb",
    "outputId": "79512ec4-5856-47cd-e71c-7d060b05671d"
   },
   "outputs": [
    {
     "data": {
      "text/plain": [
       "Unet(\n",
       "  (temb_layer0): Sequential(\n",
       "    (0): Linear(in_features=32, out_features=128, bias=True)\n",
       "    (1): ReLU()\n",
       "    (2): Linear(in_features=128, out_features=128, bias=True)\n",
       "  )\n",
       "  (down1): Sequential(\n",
       "    (0): Conv2d(1, 64, kernel_size=(3, 3), stride=(1, 1), padding=(1, 1))\n",
       "    (1): ReLU()\n",
       "    (2): Conv2d(64, 64, kernel_size=(3, 3), stride=(1, 1), padding=(1, 1))\n",
       "    (3): ReLU()\n",
       "  )\n",
       "  (temb_layer1): Sequential(\n",
       "    (0): Linear(in_features=128, out_features=512, bias=True)\n",
       "    (1): ReLU()\n",
       "    (2): Linear(in_features=512, out_features=64, bias=True)\n",
       "  )\n",
       "  (pool1): MaxPool2d(kernel_size=2, stride=2, padding=0, dilation=1, ceil_mode=False)\n",
       "  (down2): Sequential(\n",
       "    (0): Conv2d(64, 128, kernel_size=(3, 3), stride=(1, 1), padding=(1, 1))\n",
       "    (1): ReLU()\n",
       "    (2): Conv2d(128, 128, kernel_size=(3, 3), stride=(1, 1), padding=(1, 1))\n",
       "    (3): ReLU()\n",
       "  )\n",
       "  (temb_layer2): Sequential(\n",
       "    (0): Linear(in_features=128, out_features=512, bias=True)\n",
       "    (1): ReLU()\n",
       "    (2): Linear(in_features=512, out_features=128, bias=True)\n",
       "  )\n",
       "  (pool2): MaxPool2d(kernel_size=2, stride=2, padding=0, dilation=1, ceil_mode=False)\n",
       "  (middle): Sequential(\n",
       "    (0): Conv2d(128, 256, kernel_size=(3, 3), stride=(1, 1), padding=(1, 1))\n",
       "    (1): ReLU()\n",
       "    (2): Conv2d(256, 256, kernel_size=(3, 3), stride=(1, 1), padding=(1, 1))\n",
       "    (3): ReLU()\n",
       "  )\n",
       "  (attn): AttnBlock(\n",
       "    (norm): GroupNorm(8, 256, eps=1e-06, affine=True)\n",
       "    (q): Conv2d(256, 256, kernel_size=(1, 1), stride=(1, 1))\n",
       "    (k): Conv2d(256, 256, kernel_size=(1, 1), stride=(1, 1))\n",
       "    (v): Conv2d(256, 256, kernel_size=(1, 1), stride=(1, 1))\n",
       "    (proj_out): Conv2d(256, 256, kernel_size=(1, 1), stride=(1, 1))\n",
       "  )\n",
       "  (temb_layer3): Sequential(\n",
       "    (0): Linear(in_features=128, out_features=512, bias=True)\n",
       "    (1): ReLU()\n",
       "    (2): Linear(in_features=512, out_features=256, bias=True)\n",
       "  )\n",
       "  (up1): Sequential(\n",
       "    (0): ConvTranspose2d(256, 128, kernel_size=(2, 2), stride=(2, 2))\n",
       "    (1): ReLU()\n",
       "  )\n",
       "  (conv_up1): Sequential(\n",
       "    (0): Conv2d(256, 128, kernel_size=(3, 3), stride=(1, 1), padding=(1, 1))\n",
       "    (1): ReLU()\n",
       "    (2): Conv2d(128, 128, kernel_size=(3, 3), stride=(1, 1), padding=(1, 1))\n",
       "    (3): ReLU()\n",
       "  )\n",
       "  (temb_layer4): Sequential(\n",
       "    (0): Linear(in_features=128, out_features=512, bias=True)\n",
       "    (1): ReLU()\n",
       "    (2): Linear(in_features=512, out_features=128, bias=True)\n",
       "  )\n",
       "  (up2): Sequential(\n",
       "    (0): ConvTranspose2d(128, 64, kernel_size=(2, 2), stride=(2, 2))\n",
       "    (1): ReLU()\n",
       "  )\n",
       "  (conv_up2): Sequential(\n",
       "    (0): Conv2d(128, 64, kernel_size=(3, 3), stride=(1, 1), padding=(1, 1))\n",
       "    (1): ReLU()\n",
       "    (2): Conv2d(64, 64, kernel_size=(3, 3), stride=(1, 1), padding=(1, 1))\n",
       "    (3): ReLU()\n",
       "  )\n",
       "  (temb_layer5): Sequential(\n",
       "    (0): Linear(in_features=128, out_features=512, bias=True)\n",
       "    (1): ReLU()\n",
       "    (2): Linear(in_features=512, out_features=64, bias=True)\n",
       "  )\n",
       "  (final): Conv2d(64, 1, kernel_size=(1, 1), stride=(1, 1))\n",
       ")"
      ]
     },
     "execution_count": 4,
     "metadata": {},
     "output_type": "execute_result"
    }
   ],
   "source": [
    "'''\n",
    "Reading the pretrained parameters\n",
    "'''\n",
    "model = Unet()\n",
    "state_dict = torch.load('unconditional_models/with_attention/fixed_output_trained_model_epoch426.pth', map_location=torch.device('cpu'), weights_only=True)\n",
    "model.load_state_dict(state_dict)\n",
    "model.to(device)\n"
   ]
  },
  {
   "cell_type": "code",
   "execution_count": 1,
   "id": "3c0e4d1b",
   "metadata": {
    "id": "3c0e4d1b",
    "outputId": "e9d51f4c-27c2-4ab3-d29f-798d10b12803"
   },
   "outputs": [
    {
     "ename": "NameError",
     "evalue": "name 'model' is not defined",
     "output_type": "error",
     "traceback": [
      "\u001b[31m---------------------------------------------------------------------------\u001b[39m",
      "\u001b[31mNameError\u001b[39m                                 Traceback (most recent call last)",
      "\u001b[36mCell\u001b[39m\u001b[36m \u001b[39m\u001b[32mIn[1]\u001b[39m\u001b[32m, line 38\u001b[39m\n\u001b[32m     35\u001b[39m     \u001b[38;5;28;01mreturn\u001b[39;00m x_t\n\u001b[32m     37\u001b[39m \u001b[38;5;66;03m# Generate a sample noise image and denoise it\u001b[39;00m\n\u001b[32m---> \u001b[39m\u001b[32m38\u001b[39m \u001b[43mmodel\u001b[49m.train()\n\u001b[32m     41\u001b[39m sample_noise = torch.randn(\u001b[32m1\u001b[39m, \u001b[32m1\u001b[39m, \u001b[32m256\u001b[39m, \u001b[32m256\u001b[39m).to(device)\n\u001b[32m     42\u001b[39m generated_image = denoise(sample_noise, model)\n",
      "\u001b[31mNameError\u001b[39m: name 'model' is not defined"
     ]
    }
   ],
   "source": [
    "'''\n",
    "Generating (inferencing) new samples\n",
    "'''\n",
    "def denoise(x_t, model, steps=1000):\n",
    "\n",
    "    betas = torch.linspace(1e-4, 0.02, steps).to(device)\n",
    "    alphas = 1 - betas\n",
    "    alphas_cumprod = torch.cumprod(alphas, axis=0)\n",
    "\n",
    "    for t in reversed(range(steps)):\n",
    "        alpha_t_bar = alphas_cumprod[t]\n",
    "        beta_t = betas[t]\n",
    "        alpha_t = alphas[t]\n",
    "        nomalized_t = t / (steps)\n",
    "        time_step_channel = torch.ones_like(x_t) * nomalized_t\n",
    "        time_step_channel = time_step_channel.to(device)\n",
    "        x_t_with_time_step = torch.cat((x_t, time_step_channel), dim=1)\n",
    "        t = torch.tensor(t, dtype=torch.float32, device=device).unsqueeze(0)\n",
    "        # Predict the noise using the model\n",
    "        with torch.no_grad():\n",
    "            epsilon_theta = model(x_t, t)\n",
    "\n",
    "        # Calculate the mean\n",
    "        mean = (1 / torch.sqrt(alpha_t)) * (x_t - (beta_t / torch.sqrt(1 - alpha_t_bar)) * epsilon_theta)\n",
    "        \n",
    "\n",
    "        \n",
    "        # Add noise for all but the last step\n",
    "        if t > 0:\n",
    "            z = torch.randn_like(x_t).to(device)\n",
    "            x_t = mean + torch.sqrt(beta_t) * z\n",
    "        else:\n",
    "            x_t = mean\n",
    "\n",
    "    return x_t\n",
    "\n",
    "# Generate a sample noise image and denoise it\n",
    "model.train()\n",
    "\n",
    "\n",
    "sample_noise = torch.randn(1, 1, 256, 256).to(device)\n",
    "generated_image = denoise(sample_noise, model)\n",
    "\n",
    "plt.imshow(generated_image.squeeze().cpu())\n",
    "plt.show()\n"
   ]
  },
  {
   "cell_type": "code",
   "execution_count": 21,
   "id": "0e02dd70",
   "metadata": {
    "id": "0e02dd70"
   },
   "outputs": [
    {
     "name": "stdout",
     "output_type": "stream",
     "text": [
      "Unet(\n",
      "  (temb_layer): Sequential(\n",
      "    (0): Linear(in_features=32, out_features=128, bias=True)\n",
      "    (1): ReLU()\n",
      "    (2): Linear(in_features=128, out_features=128, bias=True)\n",
      "  )\n",
      "  (down1): Sequential(\n",
      "    (0): Conv2d(1, 64, kernel_size=(3, 3), stride=(1, 1), padding=(1, 1))\n",
      "    (1): ReLU()\n",
      "    (2): Conv2d(64, 64, kernel_size=(3, 3), stride=(1, 1), padding=(1, 1))\n",
      "    (3): ReLU()\n",
      "  )\n",
      "  (temb_proj1): Linear(in_features=128, out_features=64, bias=True)\n",
      "  (pool1): MaxPool2d(kernel_size=2, stride=2, padding=0, dilation=1, ceil_mode=False)\n",
      "  (down2): Sequential(\n",
      "    (0): Conv2d(64, 128, kernel_size=(3, 3), stride=(1, 1), padding=(1, 1))\n",
      "    (1): ReLU()\n",
      "    (2): Conv2d(128, 128, kernel_size=(3, 3), stride=(1, 1), padding=(1, 1))\n",
      "    (3): ReLU()\n",
      "  )\n",
      "  (temb_proj2): Linear(in_features=128, out_features=128, bias=True)\n",
      "  (pool2): MaxPool2d(kernel_size=2, stride=2, padding=0, dilation=1, ceil_mode=False)\n",
      "  (middle): Sequential(\n",
      "    (0): Conv2d(128, 256, kernel_size=(3, 3), stride=(1, 1), padding=(1, 1))\n",
      "    (1): ReLU()\n",
      "    (2): Conv2d(256, 256, kernel_size=(3, 3), stride=(1, 1), padding=(1, 1))\n",
      "    (3): ReLU()\n",
      "  )\n",
      "  (temb_proj3): Linear(in_features=128, out_features=256, bias=True)\n",
      "  (up1): Sequential(\n",
      "    (0): ConvTranspose2d(256, 128, kernel_size=(2, 2), stride=(2, 2))\n",
      "    (1): ReLU()\n",
      "  )\n",
      "  (conv_up1): Sequential(\n",
      "    (0): Conv2d(256, 128, kernel_size=(3, 3), stride=(1, 1), padding=(1, 1))\n",
      "    (1): ReLU()\n",
      "    (2): Conv2d(128, 128, kernel_size=(3, 3), stride=(1, 1), padding=(1, 1))\n",
      "    (3): ReLU()\n",
      "  )\n",
      "  (temb_proj4): Linear(in_features=128, out_features=128, bias=True)\n",
      "  (up2): Sequential(\n",
      "    (0): ConvTranspose2d(128, 64, kernel_size=(2, 2), stride=(2, 2))\n",
      "    (1): ReLU()\n",
      "  )\n",
      "  (conv_up2): Sequential(\n",
      "    (0): Conv2d(128, 64, kernel_size=(3, 3), stride=(1, 1), padding=(1, 1))\n",
      "    (1): ReLU()\n",
      "    (2): Conv2d(64, 64, kernel_size=(3, 3), stride=(1, 1), padding=(1, 1))\n",
      "    (3): ReLU()\n",
      "  )\n",
      "  (temb_proj5): Linear(in_features=128, out_features=64, bias=True)\n",
      "  (final): Conv2d(64, 1, kernel_size=(1, 1), stride=(1, 1))\n",
      ")\n"
     ]
    }
   ],
   "source": [
    "print(model)"
   ]
  },
  {
   "cell_type": "code",
   "execution_count": 19,
   "id": "d3dd8c7b",
   "metadata": {},
   "outputs": [
    {
     "name": "stdout",
     "output_type": "stream",
     "text": [
      "(256, 256) (256, 256)\n",
      "(1, 256, 256)\n",
      "(1, 256)\n",
      "(256, 256) (256, 256)\n",
      "(1, 256, 256)\n",
      "(1, 256)\n",
      "(1, 256)\n"
     ]
    },
    {
     "data": {
      "text/plain": [
       "[<matplotlib.lines.Line2D at 0x7bff903addc0>]"
      ]
     },
     "execution_count": 19,
     "metadata": {},
     "output_type": "execute_result"
    },
    {
     "data": {
      "image/png": "[encoded data removed]",
      "text/plain": [
       "<Figure size 640x480 with 1 Axes>"
      ]
     },
     "metadata": {},
     "output_type": "display_data"
    }
   ],
   "source": [
    "from energy_spectrum import compute_tke_spectrum\n",
    "test_snapshot = subset_dataset[50]\n",
    "_, wavenumbers, spectrum = compute_tke_spectrum(generated_image.detach().squeeze().cpu().numpy(),2 * np.pi,2 * np.pi)\n",
    "_, wavenumbers, spectrum_gt = compute_tke_spectrum(test_snapshot.detach().squeeze().cpu().numpy(),2 * np.pi,2 * np.pi)\n",
    "\n",
    "fig,ax = plt.subplots()\n",
    "\n",
    "ax.set_xscale(\"log\")\n",
    "ax.set_yscale(\"log\")\n",
    "print(spectrum.shape)\n",
    "ax.plot(wavenumbers[:128], spectrum[..., :128].T)\n",
    "ax.plot(wavenumbers[:128], spectrum_gt[..., :128].T)"
   ]
  }
 ],
 "metadata": {
  "colab": {
   "provenance": []
  },
  "kernelspec": {
   "display_name": "venv",
   "language": "python",
   "name": "python3"
  },
  "language_info": {
   "codemirror_mode": {
    "name": "ipython",
    "version": 3
   },
   "file_extension": ".py",
   "mimetype": "text/x-python",
   "name": "python",
   "nbconvert_exporter": "python",
   "pygments_lexer": "ipython3",
   "version": "3.12.3"
  }
 },
 "nbformat": 4,
 "nbformat_minor": 5
}
